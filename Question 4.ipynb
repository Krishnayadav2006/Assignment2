{
 "cells": [
  {
   "cell_type": "code",
   "execution_count": 15,
   "id": "6af4d445-1b1f-48bf-84e4-e485df2a0caa",
   "metadata": {},
   "outputs": [
    {
     "name": "stdout",
     "output_type": "stream",
     "text": [
      "    0                                                  1\n",
      "0 NaN  Graphs are unavailable due to technical issues...\n"
     ]
    }
   ],
   "source": [
    "import pandas as pd\n",
    "\n",
    "url = 'https://en.wikipedia.org/wiki/GameStop'\n",
    "\n",
    "tables = pd.read_html(url)\n",
    "\n",
    "gme_revenue = None\n",
    "for table in tables:\n",
    "    if 'Revenue' in table.columns:\n",
    "        gme_revenue = table\n",
    "        break\n",
    "\n",
    "if gme_revenue is None:\n",
    "    gme_revenue = tables[1] \n",
    "\n",
    "print(gme_revenue.tail())"
   ]
  },
  {
   "cell_type": "code",
   "execution_count": null,
   "id": "c7f7a175-ddd7-4991-8afe-28c37c6f482f",
   "metadata": {},
   "outputs": [],
   "source": []
  }
 ],
 "metadata": {
  "kernelspec": {
   "display_name": "Python 3 (ipykernel)",
   "language": "python",
   "name": "python3"
  },
  "language_info": {
   "codemirror_mode": {
    "name": "ipython",
    "version": 3
   },
   "file_extension": ".py",
   "mimetype": "text/x-python",
   "name": "python",
   "nbconvert_exporter": "python",
   "pygments_lexer": "ipython3",
   "version": "3.12.7"
  }
 },
 "nbformat": 4,
 "nbformat_minor": 5
}
